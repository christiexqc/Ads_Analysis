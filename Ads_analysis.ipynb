{
 "cells": [
  {
   "cell_type": "code",
   "execution_count": 29,
   "metadata": {},
   "outputs": [
    {
     "name": "stderr",
     "output_type": "stream",
     "text": [
      "Importing plotly failed. Interactive plots will not work.\n"
     ]
    }
   ],
   "source": [
    "%matplotlib inline\n",
    "import numpy as np\n",
    "import pandas as pd\n",
    "import matplotlib.pyplot as plt\n",
    "#import statsmodels.formula.api as sm\n",
    "import seaborn as sns\n",
    "import warnings\n",
    "import fbprophet\n",
    "warnings.filterwarnings('ignore')\n",
    "pandas.set_option('display.max_columns', 20)\n",
    "pandas.set_option('display.width', 350)"
   ]
  },
  {
   "cell_type": "code",
   "execution_count": 35,
   "metadata": {},
   "outputs": [],
   "source": [
    "import matplotlib.dates as mdates\n",
    "from matplotlib import rcParams"
   ]
  },
  {
   "cell_type": "markdown",
   "metadata": {},
   "source": [
    "# Import Data\n",
    "\n",
    "\n",
    "\n",
    "\n"
   ]
  },
  {
   "cell_type": "code",
   "execution_count": 7,
   "metadata": {},
   "outputs": [],
   "source": [
    "data = pd.read_csv('./dataset/ad_table.csv')"
   ]
  },
  {
   "cell_type": "markdown",
   "metadata": {},
   "source": [
    "# Data Exploration"
   ]
  },
  {
   "cell_type": "code",
   "execution_count": 8,
   "metadata": {},
   "outputs": [
    {
     "data": {
      "text/html": [
       "<div>\n",
       "<style scoped>\n",
       "    .dataframe tbody tr th:only-of-type {\n",
       "        vertical-align: middle;\n",
       "    }\n",
       "\n",
       "    .dataframe tbody tr th {\n",
       "        vertical-align: top;\n",
       "    }\n",
       "\n",
       "    .dataframe thead th {\n",
       "        text-align: right;\n",
       "    }\n",
       "</style>\n",
       "<table border=\"1\" class=\"dataframe\">\n",
       "  <thead>\n",
       "    <tr style=\"text-align: right;\">\n",
       "      <th></th>\n",
       "      <th>date</th>\n",
       "      <th>shown</th>\n",
       "      <th>clicked</th>\n",
       "      <th>converted</th>\n",
       "      <th>avg_cost_per_click</th>\n",
       "      <th>total_revenue</th>\n",
       "      <th>ad</th>\n",
       "    </tr>\n",
       "  </thead>\n",
       "  <tbody>\n",
       "    <tr>\n",
       "      <th>0</th>\n",
       "      <td>2015-10-01</td>\n",
       "      <td>65877</td>\n",
       "      <td>2339</td>\n",
       "      <td>43</td>\n",
       "      <td>0.90</td>\n",
       "      <td>641.62</td>\n",
       "      <td>ad_group_1</td>\n",
       "    </tr>\n",
       "    <tr>\n",
       "      <th>1</th>\n",
       "      <td>2015-10-02</td>\n",
       "      <td>65100</td>\n",
       "      <td>2498</td>\n",
       "      <td>38</td>\n",
       "      <td>0.94</td>\n",
       "      <td>756.37</td>\n",
       "      <td>ad_group_1</td>\n",
       "    </tr>\n",
       "    <tr>\n",
       "      <th>2</th>\n",
       "      <td>2015-10-03</td>\n",
       "      <td>70658</td>\n",
       "      <td>2313</td>\n",
       "      <td>49</td>\n",
       "      <td>0.86</td>\n",
       "      <td>970.90</td>\n",
       "      <td>ad_group_1</td>\n",
       "    </tr>\n",
       "    <tr>\n",
       "      <th>3</th>\n",
       "      <td>2015-10-04</td>\n",
       "      <td>69809</td>\n",
       "      <td>2833</td>\n",
       "      <td>51</td>\n",
       "      <td>1.01</td>\n",
       "      <td>907.39</td>\n",
       "      <td>ad_group_1</td>\n",
       "    </tr>\n",
       "    <tr>\n",
       "      <th>4</th>\n",
       "      <td>2015-10-05</td>\n",
       "      <td>68186</td>\n",
       "      <td>2696</td>\n",
       "      <td>41</td>\n",
       "      <td>1.00</td>\n",
       "      <td>879.45</td>\n",
       "      <td>ad_group_1</td>\n",
       "    </tr>\n",
       "  </tbody>\n",
       "</table>\n",
       "</div>"
      ],
      "text/plain": [
       "         date  shown  clicked  converted  avg_cost_per_click  total_revenue          ad\n",
       "0  2015-10-01  65877     2339         43                0.90         641.62  ad_group_1\n",
       "1  2015-10-02  65100     2498         38                0.94         756.37  ad_group_1\n",
       "2  2015-10-03  70658     2313         49                0.86         970.90  ad_group_1\n",
       "3  2015-10-04  69809     2833         51                1.01         907.39  ad_group_1\n",
       "4  2015-10-05  68186     2696         41                1.00         879.45  ad_group_1"
      ]
     },
     "execution_count": 8,
     "metadata": {},
     "output_type": "execute_result"
    }
   ],
   "source": [
    "data.head()"
   ]
  },
  {
   "cell_type": "code",
   "execution_count": 28,
   "metadata": {},
   "outputs": [
    {
     "data": {
      "text/html": [
       "<div>\n",
       "<style scoped>\n",
       "    .dataframe tbody tr th:only-of-type {\n",
       "        vertical-align: middle;\n",
       "    }\n",
       "\n",
       "    .dataframe tbody tr th {\n",
       "        vertical-align: top;\n",
       "    }\n",
       "\n",
       "    .dataframe thead th {\n",
       "        text-align: right;\n",
       "    }\n",
       "</style>\n",
       "<table border=\"1\" class=\"dataframe\">\n",
       "  <thead>\n",
       "    <tr style=\"text-align: right;\">\n",
       "      <th></th>\n",
       "      <th>date</th>\n",
       "      <th>shown</th>\n",
       "      <th>clicked</th>\n",
       "      <th>converted</th>\n",
       "      <th>avg_cost_per_click</th>\n",
       "      <th>total_revenue</th>\n",
       "      <th>ad</th>\n",
       "    </tr>\n",
       "  </thead>\n",
       "  <tbody>\n",
       "    <tr>\n",
       "      <th>2110</th>\n",
       "      <td>2015-11-18</td>\n",
       "      <td>78111</td>\n",
       "      <td>1326</td>\n",
       "      <td>37</td>\n",
       "      <td>1.01</td>\n",
       "      <td>553.36</td>\n",
       "      <td>ad_group_40</td>\n",
       "    </tr>\n",
       "    <tr>\n",
       "      <th>2111</th>\n",
       "      <td>2015-11-19</td>\n",
       "      <td>79857</td>\n",
       "      <td>1413</td>\n",
       "      <td>34</td>\n",
       "      <td>1.00</td>\n",
       "      <td>840.72</td>\n",
       "      <td>ad_group_40</td>\n",
       "    </tr>\n",
       "    <tr>\n",
       "      <th>2112</th>\n",
       "      <td>2015-11-20</td>\n",
       "      <td>75695</td>\n",
       "      <td>1332</td>\n",
       "      <td>35</td>\n",
       "      <td>1.09</td>\n",
       "      <td>468.95</td>\n",
       "      <td>ad_group_40</td>\n",
       "    </tr>\n",
       "    <tr>\n",
       "      <th>2113</th>\n",
       "      <td>2015-11-21</td>\n",
       "      <td>73761</td>\n",
       "      <td>1336</td>\n",
       "      <td>36</td>\n",
       "      <td>1.11</td>\n",
       "      <td>437.03</td>\n",
       "      <td>ad_group_40</td>\n",
       "    </tr>\n",
       "    <tr>\n",
       "      <th>2114</th>\n",
       "      <td>2015-11-22</td>\n",
       "      <td>77907</td>\n",
       "      <td>1391</td>\n",
       "      <td>34</td>\n",
       "      <td>0.99</td>\n",
       "      <td>409.30</td>\n",
       "      <td>ad_group_40</td>\n",
       "    </tr>\n",
       "  </tbody>\n",
       "</table>\n",
       "</div>"
      ],
      "text/plain": [
       "           date  shown  clicked  converted  avg_cost_per_click  total_revenue           ad\n",
       "2110 2015-11-18  78111     1326         37                1.01         553.36  ad_group_40\n",
       "2111 2015-11-19  79857     1413         34                1.00         840.72  ad_group_40\n",
       "2112 2015-11-20  75695     1332         35                1.09         468.95  ad_group_40\n",
       "2113 2015-11-21  73761     1336         36                1.11         437.03  ad_group_40\n",
       "2114 2015-11-22  77907     1391         34                0.99         409.30  ad_group_40"
      ]
     },
     "execution_count": 28,
     "metadata": {},
     "output_type": "execute_result"
    }
   ],
   "source": [
    "data.tail()"
   ]
  },
  {
   "cell_type": "code",
   "execution_count": 4,
   "metadata": {},
   "outputs": [
    {
     "data": {
      "text/plain": [
       "date                   object\n",
       "shown                   int64\n",
       "clicked                 int64\n",
       "converted               int64\n",
       "avg_cost_per_click    float64\n",
       "total_revenue         float64\n",
       "ad                     object\n",
       "dtype: object"
      ]
     },
     "execution_count": 4,
     "metadata": {},
     "output_type": "execute_result"
    }
   ],
   "source": [
    "data.dtypes"
   ]
  },
  {
   "cell_type": "code",
   "execution_count": 9,
   "metadata": {},
   "outputs": [],
   "source": [
    "data['date'] = pd.to_datetime(data['date'])"
   ]
  },
  {
   "cell_type": "code",
   "execution_count": 10,
   "metadata": {},
   "outputs": [
    {
     "data": {
      "text/plain": [
       "date                  datetime64[ns]\n",
       "shown                          int64\n",
       "clicked                        int64\n",
       "converted                      int64\n",
       "avg_cost_per_click           float64\n",
       "total_revenue                float64\n",
       "ad                            object\n",
       "dtype: object"
      ]
     },
     "execution_count": 10,
     "metadata": {},
     "output_type": "execute_result"
    }
   ],
   "source": [
    "data.dtypes"
   ]
  },
  {
   "cell_type": "code",
   "execution_count": 11,
   "metadata": {},
   "outputs": [
    {
     "data": {
      "text/plain": [
       "(2115, 7)"
      ]
     },
     "execution_count": 11,
     "metadata": {},
     "output_type": "execute_result"
    }
   ],
   "source": [
    "data.shape"
   ]
  },
  {
   "cell_type": "code",
   "execution_count": 12,
   "metadata": {},
   "outputs": [
    {
     "data": {
      "text/html": [
       "<div>\n",
       "<style scoped>\n",
       "    .dataframe tbody tr th:only-of-type {\n",
       "        vertical-align: middle;\n",
       "    }\n",
       "\n",
       "    .dataframe tbody tr th {\n",
       "        vertical-align: top;\n",
       "    }\n",
       "\n",
       "    .dataframe thead th {\n",
       "        text-align: right;\n",
       "    }\n",
       "</style>\n",
       "<table border=\"1\" class=\"dataframe\">\n",
       "  <thead>\n",
       "    <tr style=\"text-align: right;\">\n",
       "      <th></th>\n",
       "      <th>shown</th>\n",
       "      <th>clicked</th>\n",
       "      <th>converted</th>\n",
       "      <th>avg_cost_per_click</th>\n",
       "      <th>total_revenue</th>\n",
       "    </tr>\n",
       "  </thead>\n",
       "  <tbody>\n",
       "    <tr>\n",
       "      <th>count</th>\n",
       "      <td>2115.000000</td>\n",
       "      <td>2115.000000</td>\n",
       "      <td>2115.000000</td>\n",
       "      <td>2115.000000</td>\n",
       "      <td>2115.000000</td>\n",
       "    </tr>\n",
       "    <tr>\n",
       "      <th>mean</th>\n",
       "      <td>68299.844444</td>\n",
       "      <td>3056.077069</td>\n",
       "      <td>126.453901</td>\n",
       "      <td>1.373749</td>\n",
       "      <td>1966.517589</td>\n",
       "    </tr>\n",
       "    <tr>\n",
       "      <th>std</th>\n",
       "      <td>48884.821409</td>\n",
       "      <td>3783.579969</td>\n",
       "      <td>233.420826</td>\n",
       "      <td>0.754331</td>\n",
       "      <td>3942.018757</td>\n",
       "    </tr>\n",
       "    <tr>\n",
       "      <th>min</th>\n",
       "      <td>0.000000</td>\n",
       "      <td>0.000000</td>\n",
       "      <td>0.000000</td>\n",
       "      <td>0.000000</td>\n",
       "      <td>-200.150000</td>\n",
       "    </tr>\n",
       "    <tr>\n",
       "      <th>25%</th>\n",
       "      <td>28030.500000</td>\n",
       "      <td>744.000000</td>\n",
       "      <td>18.000000</td>\n",
       "      <td>0.760000</td>\n",
       "      <td>235.470000</td>\n",
       "    </tr>\n",
       "    <tr>\n",
       "      <th>50%</th>\n",
       "      <td>54029.000000</td>\n",
       "      <td>1392.000000</td>\n",
       "      <td>41.000000</td>\n",
       "      <td>1.400000</td>\n",
       "      <td>553.300000</td>\n",
       "    </tr>\n",
       "    <tr>\n",
       "      <th>75%</th>\n",
       "      <td>97314.500000</td>\n",
       "      <td>3366.500000</td>\n",
       "      <td>103.000000</td>\n",
       "      <td>1.920000</td>\n",
       "      <td>1611.495000</td>\n",
       "    </tr>\n",
       "    <tr>\n",
       "      <th>max</th>\n",
       "      <td>192507.000000</td>\n",
       "      <td>20848.000000</td>\n",
       "      <td>1578.000000</td>\n",
       "      <td>4.190000</td>\n",
       "      <td>39623.710000</td>\n",
       "    </tr>\n",
       "  </tbody>\n",
       "</table>\n",
       "</div>"
      ],
      "text/plain": [
       "               shown       clicked    converted  avg_cost_per_click  total_revenue\n",
       "count    2115.000000   2115.000000  2115.000000         2115.000000    2115.000000\n",
       "mean    68299.844444   3056.077069   126.453901            1.373749    1966.517589\n",
       "std     48884.821409   3783.579969   233.420826            0.754331    3942.018757\n",
       "min         0.000000      0.000000     0.000000            0.000000    -200.150000\n",
       "25%     28030.500000    744.000000    18.000000            0.760000     235.470000\n",
       "50%     54029.000000   1392.000000    41.000000            1.400000     553.300000\n",
       "75%     97314.500000   3366.500000   103.000000            1.920000    1611.495000\n",
       "max    192507.000000  20848.000000  1578.000000            4.190000   39623.710000"
      ]
     },
     "execution_count": 12,
     "metadata": {},
     "output_type": "execute_result"
    }
   ],
   "source": [
    "data.describe()"
   ]
  },
  {
   "cell_type": "code",
   "execution_count": 13,
   "metadata": {},
   "outputs": [
    {
     "data": {
      "text/html": [
       "<div>\n",
       "<style scoped>\n",
       "    .dataframe tbody tr th:only-of-type {\n",
       "        vertical-align: middle;\n",
       "    }\n",
       "\n",
       "    .dataframe tbody tr th {\n",
       "        vertical-align: top;\n",
       "    }\n",
       "\n",
       "    .dataframe thead th {\n",
       "        text-align: right;\n",
       "    }\n",
       "</style>\n",
       "<table border=\"1\" class=\"dataframe\">\n",
       "  <thead>\n",
       "    <tr style=\"text-align: right;\">\n",
       "      <th></th>\n",
       "      <th>shown</th>\n",
       "      <th>clicked</th>\n",
       "      <th>converted</th>\n",
       "      <th>avg_cost_per_click</th>\n",
       "      <th>total_revenue</th>\n",
       "    </tr>\n",
       "  </thead>\n",
       "  <tbody>\n",
       "    <tr>\n",
       "      <th>count</th>\n",
       "      <td>2115.000000</td>\n",
       "      <td>2115.000000</td>\n",
       "      <td>2115.000000</td>\n",
       "      <td>2115.000000</td>\n",
       "      <td>2115.000000</td>\n",
       "    </tr>\n",
       "    <tr>\n",
       "      <th>mean</th>\n",
       "      <td>68299.844444</td>\n",
       "      <td>3056.077069</td>\n",
       "      <td>126.453901</td>\n",
       "      <td>1.373749</td>\n",
       "      <td>1966.517589</td>\n",
       "    </tr>\n",
       "    <tr>\n",
       "      <th>std</th>\n",
       "      <td>48884.821409</td>\n",
       "      <td>3783.579969</td>\n",
       "      <td>233.420826</td>\n",
       "      <td>0.754331</td>\n",
       "      <td>3942.018757</td>\n",
       "    </tr>\n",
       "    <tr>\n",
       "      <th>min</th>\n",
       "      <td>0.000000</td>\n",
       "      <td>0.000000</td>\n",
       "      <td>0.000000</td>\n",
       "      <td>0.000000</td>\n",
       "      <td>-200.150000</td>\n",
       "    </tr>\n",
       "    <tr>\n",
       "      <th>25%</th>\n",
       "      <td>28030.500000</td>\n",
       "      <td>744.000000</td>\n",
       "      <td>18.000000</td>\n",
       "      <td>0.760000</td>\n",
       "      <td>235.470000</td>\n",
       "    </tr>\n",
       "    <tr>\n",
       "      <th>50%</th>\n",
       "      <td>54029.000000</td>\n",
       "      <td>1392.000000</td>\n",
       "      <td>41.000000</td>\n",
       "      <td>1.400000</td>\n",
       "      <td>553.300000</td>\n",
       "    </tr>\n",
       "    <tr>\n",
       "      <th>75%</th>\n",
       "      <td>97314.500000</td>\n",
       "      <td>3366.500000</td>\n",
       "      <td>103.000000</td>\n",
       "      <td>1.920000</td>\n",
       "      <td>1611.495000</td>\n",
       "    </tr>\n",
       "    <tr>\n",
       "      <th>max</th>\n",
       "      <td>192507.000000</td>\n",
       "      <td>20848.000000</td>\n",
       "      <td>1578.000000</td>\n",
       "      <td>4.190000</td>\n",
       "      <td>39623.710000</td>\n",
       "    </tr>\n",
       "  </tbody>\n",
       "</table>\n",
       "</div>"
      ],
      "text/plain": [
       "               shown       clicked    converted  avg_cost_per_click  total_revenue\n",
       "count    2115.000000   2115.000000  2115.000000         2115.000000    2115.000000\n",
       "mean    68299.844444   3056.077069   126.453901            1.373749    1966.517589\n",
       "std     48884.821409   3783.579969   233.420826            0.754331    3942.018757\n",
       "min         0.000000      0.000000     0.000000            0.000000    -200.150000\n",
       "25%     28030.500000    744.000000    18.000000            0.760000     235.470000\n",
       "50%     54029.000000   1392.000000    41.000000            1.400000     553.300000\n",
       "75%     97314.500000   3366.500000   103.000000            1.920000    1611.495000\n",
       "max    192507.000000  20848.000000  1578.000000            4.190000   39623.710000"
      ]
     },
     "execution_count": 13,
     "metadata": {},
     "output_type": "execute_result"
    }
   ],
   "source": [
    "data.describe()"
   ]
  },
  {
   "cell_type": "markdown",
   "metadata": {},
   "source": [
    "Revenue cannot be negative"
   ]
  },
  {
   "cell_type": "code",
   "execution_count": 14,
   "metadata": {},
   "outputs": [
    {
     "data": {
      "text/plain": [
       "4"
      ]
     },
     "execution_count": 14,
     "metadata": {},
     "output_type": "execute_result"
    }
   ],
   "source": [
    "len(data[data['total_revenue'] < 0])"
   ]
  },
  {
   "cell_type": "code",
   "execution_count": 15,
   "metadata": {},
   "outputs": [],
   "source": [
    "#Remove those\n",
    "data = data.query('total_revenue>=0')"
   ]
  },
  {
   "cell_type": "markdown",
   "metadata": {},
   "source": [
    "Also, clicked should be >= shown and converted should be >= clicked. Let's see:"
   ]
  },
  {
   "cell_type": "code",
   "execution_count": 16,
   "metadata": {},
   "outputs": [
    {
     "data": {
      "text/plain": [
       "0"
      ]
     },
     "execution_count": 16,
     "metadata": {},
     "output_type": "execute_result"
    }
   ],
   "source": [
    "len(data.query('shown<clicked | clicked<converted'))"
   ]
  },
  {
   "cell_type": "code",
   "execution_count": 17,
   "metadata": {},
   "outputs": [
    {
     "data": {
      "text/plain": [
       "13"
      ]
     },
     "execution_count": 17,
     "metadata": {},
     "output_type": "execute_result"
    }
   ],
   "source": [
    "len(data.query('shown==0'))"
   ]
  },
  {
   "cell_type": "code",
   "execution_count": 18,
   "metadata": {},
   "outputs": [],
   "source": [
    "# remove zero impression data\n",
    "data = data.query('shown>0')"
   ]
  },
  {
   "cell_type": "code",
   "execution_count": 19,
   "metadata": {},
   "outputs": [
    {
     "data": {
      "text/plain": [
       "7"
      ]
     },
     "execution_count": 19,
     "metadata": {},
     "output_type": "execute_result"
    }
   ],
   "source": [
    "len(data.query('clicked==0'))"
   ]
  },
  {
   "cell_type": "code",
   "execution_count": 20,
   "metadata": {},
   "outputs": [],
   "source": [
    "# remove zero clicked data\n",
    "data = data.query('clicked>0')"
   ]
  },
  {
   "cell_type": "code",
   "execution_count": 21,
   "metadata": {},
   "outputs": [
    {
     "data": {
      "text/html": [
       "<div>\n",
       "<style scoped>\n",
       "    .dataframe tbody tr th:only-of-type {\n",
       "        vertical-align: middle;\n",
       "    }\n",
       "\n",
       "    .dataframe tbody tr th {\n",
       "        vertical-align: top;\n",
       "    }\n",
       "\n",
       "    .dataframe thead th {\n",
       "        text-align: right;\n",
       "    }\n",
       "</style>\n",
       "<table border=\"1\" class=\"dataframe\">\n",
       "  <thead>\n",
       "    <tr style=\"text-align: right;\">\n",
       "      <th></th>\n",
       "      <th>shown</th>\n",
       "      <th>clicked</th>\n",
       "      <th>converted</th>\n",
       "      <th>avg_cost_per_click</th>\n",
       "      <th>total_revenue</th>\n",
       "    </tr>\n",
       "  </thead>\n",
       "  <tbody>\n",
       "    <tr>\n",
       "      <th>count</th>\n",
       "      <td>2091.000000</td>\n",
       "      <td>2091.000000</td>\n",
       "      <td>2091.000000</td>\n",
       "      <td>2091.000000</td>\n",
       "      <td>2091.000000</td>\n",
       "    </tr>\n",
       "    <tr>\n",
       "      <th>mean</th>\n",
       "      <td>68853.852702</td>\n",
       "      <td>3088.744142</td>\n",
       "      <td>127.822573</td>\n",
       "      <td>1.387661</td>\n",
       "      <td>1989.242257</td>\n",
       "    </tr>\n",
       "    <tr>\n",
       "      <th>std</th>\n",
       "      <td>48799.535713</td>\n",
       "      <td>3792.468317</td>\n",
       "      <td>234.394500</td>\n",
       "      <td>0.746035</td>\n",
       "      <td>3958.838731</td>\n",
       "    </tr>\n",
       "    <tr>\n",
       "      <th>min</th>\n",
       "      <td>7494.000000</td>\n",
       "      <td>187.000000</td>\n",
       "      <td>0.000000</td>\n",
       "      <td>0.080000</td>\n",
       "      <td>0.000000</td>\n",
       "    </tr>\n",
       "    <tr>\n",
       "      <th>25%</th>\n",
       "      <td>28446.000000</td>\n",
       "      <td>756.500000</td>\n",
       "      <td>18.000000</td>\n",
       "      <td>0.780000</td>\n",
       "      <td>244.765000</td>\n",
       "    </tr>\n",
       "    <tr>\n",
       "      <th>50%</th>\n",
       "      <td>54569.000000</td>\n",
       "      <td>1413.000000</td>\n",
       "      <td>42.000000</td>\n",
       "      <td>1.410000</td>\n",
       "      <td>561.070000</td>\n",
       "    </tr>\n",
       "    <tr>\n",
       "      <th>75%</th>\n",
       "      <td>100395.500000</td>\n",
       "      <td>3413.500000</td>\n",
       "      <td>106.000000</td>\n",
       "      <td>1.920000</td>\n",
       "      <td>1634.895000</td>\n",
       "    </tr>\n",
       "    <tr>\n",
       "      <th>max</th>\n",
       "      <td>192507.000000</td>\n",
       "      <td>20848.000000</td>\n",
       "      <td>1578.000000</td>\n",
       "      <td>4.190000</td>\n",
       "      <td>39623.710000</td>\n",
       "    </tr>\n",
       "  </tbody>\n",
       "</table>\n",
       "</div>"
      ],
      "text/plain": [
       "               shown       clicked    converted  avg_cost_per_click  total_revenue\n",
       "count    2091.000000   2091.000000  2091.000000         2091.000000    2091.000000\n",
       "mean    68853.852702   3088.744142   127.822573            1.387661    1989.242257\n",
       "std     48799.535713   3792.468317   234.394500            0.746035    3958.838731\n",
       "min      7494.000000    187.000000     0.000000            0.080000       0.000000\n",
       "25%     28446.000000    756.500000    18.000000            0.780000     244.765000\n",
       "50%     54569.000000   1413.000000    42.000000            1.410000     561.070000\n",
       "75%    100395.500000   3413.500000   106.000000            1.920000    1634.895000\n",
       "max    192507.000000  20848.000000  1578.000000            4.190000   39623.710000"
      ]
     },
     "execution_count": 21,
     "metadata": {},
     "output_type": "execute_result"
    }
   ],
   "source": [
    "data.describe()"
   ]
  },
  {
   "cell_type": "markdown",
   "metadata": {},
   "source": [
    "We could spend more time looking at the data, but overall things seem to make sense now.\n",
    "\n",
    "Q: If you had to identify the 5 best ad groups, which ones would be? Which metric did you choose to identify the best ones? Why? Explain the pros of your metric as well as the possible cons. From a business perspective, choosing that metric implies that you are focusing on what?\n",
    "\n",
    "There are obviously tons of ad related metric. And they are all plausible and useful in different situations, depending on the main business focus of a given company. A few examples are:\n",
    "\n",
    "1 Click-through-rate (CTR), # of clicks/ # of impressions, i.e. of all people seeing the ad, how many click on it? Pros: as discussed extensively in this course case studies, it is great to identify demand from users. Also, since it only takes into account what the user does after seeing the ad, it can be easily estimated and allows to test and improve ad characteristics to maximize the number of users coming to the site Cons: It has no information about what the user does once they come to the site as well as costs. A very high CTR is not that useful is no one of those users converts. It can also easily be tricked via click-bait ads. This metric is purely growth-based when the goal is to bring users to the site\n",
    "\n",
    "2 Conversion rate (CR), # of conversions/ # of impressions, i.e. of all people seeing the ad, how many people end up becoming customers? Pros: Fixes most of CTR issues. After all, the goal of an ad is to get customers, and this is what this metric represents. Cons: It has no information about costs. Also, conversion on the site highly depends on the product. An ad could be great in capturing demand, but if the product is bad, no one converts. Finally, how to link conversion to an ad click is pretty messy, conversion might happen after a long time, might happen after multiple visits through different channels, etc. This metric combines both growth and product.\n",
    "\n",
    "3 Profits, revenue from conversions - ad costs Pros: Very concrete and business driven. Am I making money via ads? Cons: Same as CR, hard to define revenue from an ad, not only there are the issues described above, but here you would need to predict user lifetime value to see if an ad is profitable. Also, it only considers users after they click on the ad. It has no information about the top of the funnel, i.e. how many users see the ad and choose to not click. This metric focuses on the business/product side, but it is hardly useful from a growth standpoint. It is typically used by very large companies whose main goal is being profitable.\n",
    "For this exercise, let’s look into profits and CTR. We will pick the top 5 ads based on CTR as long as profits are above a certain threshold. In plain English, that means we want the ads with the highest growth potential after removing the ads that would make us go broken."
   ]
  },
  {
   "cell_type": "code",
   "execution_count": 22,
   "metadata": {},
   "outputs": [],
   "source": [
    "#Let's get CTR and profits per ad group on an avg\n",
    "data_rank = data.groupby('ad').apply(\n",
    "             lambda x: pd.Series({\n",
    "                       'CTR': (x['clicked']/x['shown']).mean(),\n",
    "                       'profits': (x['total_revenue']-x['clicked']*x['avg_cost_per_click']).mean(),\n",
    "                       'count': x['shown'].mean()\n",
    "  })).reset_index()"
   ]
  },
  {
   "cell_type": "code",
   "execution_count": 23,
   "metadata": {},
   "outputs": [
    {
     "data": {
      "text/html": [
       "<div>\n",
       "<style scoped>\n",
       "    .dataframe tbody tr th:only-of-type {\n",
       "        vertical-align: middle;\n",
       "    }\n",
       "\n",
       "    .dataframe tbody tr th {\n",
       "        vertical-align: top;\n",
       "    }\n",
       "\n",
       "    .dataframe thead th {\n",
       "        text-align: right;\n",
       "    }\n",
       "</style>\n",
       "<table border=\"1\" class=\"dataframe\">\n",
       "  <thead>\n",
       "    <tr style=\"text-align: right;\">\n",
       "      <th></th>\n",
       "      <th>ad</th>\n",
       "      <th>CTR</th>\n",
       "      <th>profits</th>\n",
       "      <th>count</th>\n",
       "    </tr>\n",
       "  </thead>\n",
       "  <tbody>\n",
       "    <tr>\n",
       "      <th>0</th>\n",
       "      <td>ad_group_1</td>\n",
       "      <td>0.039003</td>\n",
       "      <td>-1901.937547</td>\n",
       "      <td>69345.566038</td>\n",
       "    </tr>\n",
       "    <tr>\n",
       "      <th>1</th>\n",
       "      <td>ad_group_10</td>\n",
       "      <td>0.014175</td>\n",
       "      <td>-1650.159615</td>\n",
       "      <td>117701.365385</td>\n",
       "    </tr>\n",
       "    <tr>\n",
       "      <th>2</th>\n",
       "      <td>ad_group_11</td>\n",
       "      <td>0.063575</td>\n",
       "      <td>-1346.640408</td>\n",
       "      <td>19448.979592</td>\n",
       "    </tr>\n",
       "    <tr>\n",
       "      <th>3</th>\n",
       "      <td>ad_group_12</td>\n",
       "      <td>0.061022</td>\n",
       "      <td>-1194.148431</td>\n",
       "      <td>29145.549020</td>\n",
       "    </tr>\n",
       "    <tr>\n",
       "      <th>4</th>\n",
       "      <td>ad_group_13</td>\n",
       "      <td>0.085635</td>\n",
       "      <td>-3573.196275</td>\n",
       "      <td>161519.176471</td>\n",
       "    </tr>\n",
       "  </tbody>\n",
       "</table>\n",
       "</div>"
      ],
      "text/plain": [
       "            ad       CTR      profits          count\n",
       "0   ad_group_1  0.039003 -1901.937547   69345.566038\n",
       "1  ad_group_10  0.014175 -1650.159615  117701.365385\n",
       "2  ad_group_11  0.063575 -1346.640408   19448.979592\n",
       "3  ad_group_12  0.061022 -1194.148431   29145.549020\n",
       "4  ad_group_13  0.085635 -3573.196275  161519.176471"
      ]
     },
     "execution_count": 23,
     "metadata": {},
     "output_type": "execute_result"
    }
   ],
   "source": [
    "data_rank.head()"
   ]
  },
  {
   "cell_type": "code",
   "execution_count": 24,
   "metadata": {},
   "outputs": [
    {
     "data": {
      "text/html": [
       "<div>\n",
       "<style scoped>\n",
       "    .dataframe tbody tr th:only-of-type {\n",
       "        vertical-align: middle;\n",
       "    }\n",
       "\n",
       "    .dataframe tbody tr th {\n",
       "        vertical-align: top;\n",
       "    }\n",
       "\n",
       "    .dataframe thead th {\n",
       "        text-align: right;\n",
       "    }\n",
       "</style>\n",
       "<table border=\"1\" class=\"dataframe\">\n",
       "  <thead>\n",
       "    <tr style=\"text-align: right;\">\n",
       "      <th></th>\n",
       "      <th>CTR</th>\n",
       "      <th>profits</th>\n",
       "      <th>count</th>\n",
       "    </tr>\n",
       "  </thead>\n",
       "  <tbody>\n",
       "    <tr>\n",
       "      <th>count</th>\n",
       "      <td>40.000000</td>\n",
       "      <td>40.000000</td>\n",
       "      <td>40.000000</td>\n",
       "    </tr>\n",
       "    <tr>\n",
       "      <th>mean</th>\n",
       "      <td>0.046767</td>\n",
       "      <td>-3727.781833</td>\n",
       "      <td>68765.870284</td>\n",
       "    </tr>\n",
       "    <tr>\n",
       "      <th>std</th>\n",
       "      <td>0.032375</td>\n",
       "      <td>7316.360934</td>\n",
       "      <td>49241.400530</td>\n",
       "    </tr>\n",
       "    <tr>\n",
       "      <th>min</th>\n",
       "      <td>0.002056</td>\n",
       "      <td>-42659.834528</td>\n",
       "      <td>8461.096154</td>\n",
       "    </tr>\n",
       "    <tr>\n",
       "      <th>25%</th>\n",
       "      <td>0.014243</td>\n",
       "      <td>-3723.092961</td>\n",
       "      <td>28728.946078</td>\n",
       "    </tr>\n",
       "    <tr>\n",
       "      <th>50%</th>\n",
       "      <td>0.042851</td>\n",
       "      <td>-1270.394420</td>\n",
       "      <td>54094.296807</td>\n",
       "    </tr>\n",
       "    <tr>\n",
       "      <th>75%</th>\n",
       "      <td>0.081602</td>\n",
       "      <td>-237.768783</td>\n",
       "      <td>98321.619034</td>\n",
       "    </tr>\n",
       "    <tr>\n",
       "      <th>max</th>\n",
       "      <td>0.098996</td>\n",
       "      <td>1027.480000</td>\n",
       "      <td>174986.075472</td>\n",
       "    </tr>\n",
       "  </tbody>\n",
       "</table>\n",
       "</div>"
      ],
      "text/plain": [
       "             CTR       profits          count\n",
       "count  40.000000     40.000000      40.000000\n",
       "mean    0.046767  -3727.781833   68765.870284\n",
       "std     0.032375   7316.360934   49241.400530\n",
       "min     0.002056 -42659.834528    8461.096154\n",
       "25%     0.014243  -3723.092961   28728.946078\n",
       "50%     0.042851  -1270.394420   54094.296807\n",
       "75%     0.081602   -237.768783   98321.619034\n",
       "max     0.098996   1027.480000  174986.075472"
      ]
     },
     "execution_count": 24,
     "metadata": {},
     "output_type": "execute_result"
    }
   ],
   "source": [
    "data_rank.describe()"
   ]
  },
  {
   "cell_type": "code",
   "execution_count": 25,
   "metadata": {},
   "outputs": [
    {
     "data": {
      "text/html": [
       "<div>\n",
       "<style scoped>\n",
       "    .dataframe tbody tr th:only-of-type {\n",
       "        vertical-align: middle;\n",
       "    }\n",
       "\n",
       "    .dataframe tbody tr th {\n",
       "        vertical-align: top;\n",
       "    }\n",
       "\n",
       "    .dataframe thead th {\n",
       "        text-align: right;\n",
       "    }\n",
       "</style>\n",
       "<table border=\"1\" class=\"dataframe\">\n",
       "  <thead>\n",
       "    <tr style=\"text-align: right;\">\n",
       "      <th></th>\n",
       "      <th>ad</th>\n",
       "      <th>CTR</th>\n",
       "      <th>profits</th>\n",
       "      <th>count</th>\n",
       "    </tr>\n",
       "  </thead>\n",
       "  <tbody>\n",
       "    <tr>\n",
       "      <th>9</th>\n",
       "      <td>ad_group_18</td>\n",
       "      <td>0.098996</td>\n",
       "      <td>-7708.119808</td>\n",
       "      <td>89124.346154</td>\n",
       "    </tr>\n",
       "    <tr>\n",
       "      <th>22</th>\n",
       "      <td>ad_group_3</td>\n",
       "      <td>0.094987</td>\n",
       "      <td>-42659.834528</td>\n",
       "      <td>169248.924528</td>\n",
       "    </tr>\n",
       "    <tr>\n",
       "      <th>10</th>\n",
       "      <td>ad_group_19</td>\n",
       "      <td>0.094188</td>\n",
       "      <td>-3460.419038</td>\n",
       "      <td>19506.884615</td>\n",
       "    </tr>\n",
       "    <tr>\n",
       "      <th>18</th>\n",
       "      <td>ad_group_26</td>\n",
       "      <td>0.090972</td>\n",
       "      <td>-9630.303962</td>\n",
       "      <td>72090.660377</td>\n",
       "    </tr>\n",
       "    <tr>\n",
       "      <th>20</th>\n",
       "      <td>ad_group_28</td>\n",
       "      <td>0.089191</td>\n",
       "      <td>-2644.280943</td>\n",
       "      <td>19886.339623</td>\n",
       "    </tr>\n",
       "  </tbody>\n",
       "</table>\n",
       "</div>"
      ],
      "text/plain": [
       "             ad       CTR       profits          count\n",
       "9   ad_group_18  0.098996  -7708.119808   89124.346154\n",
       "22   ad_group_3  0.094987 -42659.834528  169248.924528\n",
       "10  ad_group_19  0.094188  -3460.419038   19506.884615\n",
       "18  ad_group_26  0.090972  -9630.303962   72090.660377\n",
       "20  ad_group_28  0.089191  -2644.280943   19886.339623"
      ]
     },
     "execution_count": 25,
     "metadata": {},
     "output_type": "execute_result"
    }
   ],
   "source": [
    "data_rank.sort_values(by = ['CTR','profits'],ascending = False).head()"
   ]
  },
  {
   "cell_type": "code",
   "execution_count": 26,
   "metadata": {},
   "outputs": [
    {
     "data": {
      "text/plain": [
       "Text(0, 0.5, 'CTR')"
      ]
     },
     "execution_count": 26,
     "metadata": {},
     "output_type": "execute_result"
    },
    {
     "data": {
      "image/png": "[encoded data removed]",
      "text/plain": [
       "<Figure size 432x288 with 1 Axes>"
      ]
     },
     "metadata": {
      "needs_background": "light"
     },
     "output_type": "display_data"
    }
   ],
   "source": [
    "#Let's plot them\n",
    "plt.scatter(data_rank['profits'], data_rank['CTR'])\n",
    "plt.axvline(x=-5000)\n",
    "plt.xlabel('profits')\n",
    "plt.ylabel('CTR')"
   ]
  },
  {
   "cell_type": "markdown",
   "metadata": {},
   "source": [
    "Based on the plot, we can define as threshold for profitability -5K. We will remove all ads below that, and then find the ads with the highest CTR among the remaining ones. Note that here we are considering short term revenue from the ad, and we are expecting that number to be negative. An ad should be positive when taking into account a user life time value (as usual, lifetime -> 1 yr)."
   ]
  },
  {
   "cell_type": "code",
   "execution_count": 27,
   "metadata": {},
   "outputs": [
    {
     "name": "stdout",
     "output_type": "stream",
     "text": [
      "             ad       CTR      profits          count\n",
      "10  ad_group_19  0.094188 -3460.419038   19506.884615\n",
      "20  ad_group_28  0.089191 -2644.280943   19886.339623\n",
      "4   ad_group_13  0.085635 -3573.196275  161519.176471\n",
      "27  ad_group_34  0.084257 -1189.270000   35371.622642\n",
      "35   ad_group_5  0.063862 -3233.796538   52406.461538\n"
     ]
    }
   ],
   "source": [
    "#Remove ads that are making us lose too much money and find top 5 based on CTR among the other ones\n",
    "print(data_rank.query('profits > -5000').sort_values('CTR', ascending=False).head(5))"
   ]
  },
  {
   "cell_type": "markdown",
   "metadata": {},
   "source": [
    "Q: For each group, predict how many ads will be shown on Dec, 15\n",
    "\n",
    "The most common ways to do this are either using gam or using some time series package. In this case, we will do via the time series package prophet."
   ]
  },
  {
   "cell_type": "code",
   "execution_count": 33,
   "metadata": {},
   "outputs": [],
   "source": [
    "#Let's firstly take just one ad_group and do it manually for that one as an example. Then, we will apply it to all others\n",
    "data_ad1 =data.query('ad==\"ad_group_1\"')[[\"date\", \"shown\"]]"
   ]
  },
  {
   "cell_type": "code",
   "execution_count": 36,
   "metadata": {},
   "outputs": [
    {
     "data": {
      "text/plain": [
       "Text(0.5, 1.0, 'Ad group 1')"
      ]
     },
     "execution_count": 36,
     "metadata": {},
     "output_type": "execute_result"
    },
    {
     "data": {
      "image/png": "[encoded data removed]",
      "text/plain": [
       "<Figure size 432x288 with 1 Axes>"
      ]
     },
     "metadata": {
      "needs_background": "light"
     },
     "output_type": "display_data"
    }
   ],
   "source": [
    "#plot\n",
    "g=sns.lineplot(x=\"date\", y=\"shown\", data=data_ad1)\n",
    "g.xaxis.set_major_locator(mdates.MonthLocator())\n",
    "g.xaxis.set_major_formatter(mdates.DateFormatter('%b %d'))\n",
    "g.set_title(\"Ad group 1\")"
   ]
  },
  {
   "cell_type": "code",
   "execution_count": 37,
   "metadata": {},
   "outputs": [
    {
     "name": "stderr",
     "output_type": "stream",
     "text": [
      "INFO:fbprophet:Disabling yearly seasonality. Run prophet with yearly_seasonality=True to override this.\n",
      "INFO:fbprophet:Disabling daily seasonality. Run prophet with daily_seasonality=True to override this.\n"
     ]
    },
    {
     "data": {
      "text/plain": [
       "<fbprophet.forecaster.Prophet at 0x1a13c54320>"
      ]
     },
     "execution_count": 37,
     "metadata": {},
     "output_type": "execute_result"
    }
   ],
   "source": [
    "#Let's build time series using prophet. From previous plots, time series appear pretty straightforward and flattish. Default values should do fine\n",
    "  \n",
    "#change column names and index\n",
    "data_ad1['ds'] = data_ad1['date']\n",
    "data_ad1.rename({'shown': 'y'}, axis=1, inplace=True)\n",
    "data_ad1.set_index('date', inplace=True)\n",
    " \n",
    "#build the model\n",
    "ts = fbprophet.Prophet()\n",
    "ts.fit(data_ad1)\n",
    "  \n",
    "#make predictions until Dec 15. This is the number of days for which we need a prediction to get to Dec 15"
   ]
  },
  {
   "cell_type": "code",
   "execution_count": 39,
   "metadata": {},
   "outputs": [
    {
     "data": {
      "image/png": "[encoded data removed]",
      "text/plain": [
       "<Figure size 720x432 with 1 Axes>"
      ]
     },
     "metadata": {},
     "output_type": "display_data"
    }
   ],
   "source": [
    "days_predictions = (pd.to_datetime(\"2015-12-15\")-data_ad1['ds'].max()).days\n",
    "future_data = ts.make_future_dataframe(periods = days_predictions)\n",
    "predictions = ts.predict(future_data)\n",
    "  \n",
    "#let's plot them\n",
    "ts.plot(predictions);"
   ]
  },
  {
   "cell_type": "code",
   "execution_count": 46,
   "metadata": {},
   "outputs": [
    {
     "data": {
      "text/html": [
       "<div>\n",
       "<style scoped>\n",
       "    .dataframe tbody tr th:only-of-type {\n",
       "        vertical-align: middle;\n",
       "    }\n",
       "\n",
       "    .dataframe tbody tr th {\n",
       "        vertical-align: top;\n",
       "    }\n",
       "\n",
       "    .dataframe thead th {\n",
       "        text-align: right;\n",
       "    }\n",
       "</style>\n",
       "<table border=\"1\" class=\"dataframe\">\n",
       "  <thead>\n",
       "    <tr style=\"text-align: right;\">\n",
       "      <th></th>\n",
       "      <th>ds</th>\n",
       "      <th>trend</th>\n",
       "      <th>yhat_lower</th>\n",
       "      <th>yhat_upper</th>\n",
       "      <th>trend_lower</th>\n",
       "      <th>trend_upper</th>\n",
       "      <th>additive_terms</th>\n",
       "      <th>additive_terms_lower</th>\n",
       "      <th>additive_terms_upper</th>\n",
       "      <th>weekly</th>\n",
       "      <th>weekly_lower</th>\n",
       "      <th>weekly_upper</th>\n",
       "      <th>multiplicative_terms</th>\n",
       "      <th>multiplicative_terms_lower</th>\n",
       "      <th>multiplicative_terms_upper</th>\n",
       "      <th>yhat</th>\n",
       "    </tr>\n",
       "  </thead>\n",
       "  <tbody>\n",
       "    <tr>\n",
       "      <th>0</th>\n",
       "      <td>2015-10-01</td>\n",
       "      <td>68723.100210</td>\n",
       "      <td>64906.535587</td>\n",
       "      <td>71131.760796</td>\n",
       "      <td>68723.100210</td>\n",
       "      <td>68723.100210</td>\n",
       "      <td>-789.278575</td>\n",
       "      <td>-789.278575</td>\n",
       "      <td>-789.278575</td>\n",
       "      <td>-789.278575</td>\n",
       "      <td>-789.278575</td>\n",
       "      <td>-789.278575</td>\n",
       "      <td>0.0</td>\n",
       "      <td>0.0</td>\n",
       "      <td>0.0</td>\n",
       "      <td>67933.821634</td>\n",
       "    </tr>\n",
       "    <tr>\n",
       "      <th>1</th>\n",
       "      <td>2015-10-02</td>\n",
       "      <td>68714.995063</td>\n",
       "      <td>64604.986195</td>\n",
       "      <td>70408.278039</td>\n",
       "      <td>68714.995063</td>\n",
       "      <td>68714.995063</td>\n",
       "      <td>-1386.618392</td>\n",
       "      <td>-1386.618392</td>\n",
       "      <td>-1386.618392</td>\n",
       "      <td>-1386.618392</td>\n",
       "      <td>-1386.618392</td>\n",
       "      <td>-1386.618392</td>\n",
       "      <td>0.0</td>\n",
       "      <td>0.0</td>\n",
       "      <td>0.0</td>\n",
       "      <td>67328.376671</td>\n",
       "    </tr>\n",
       "    <tr>\n",
       "      <th>2</th>\n",
       "      <td>2015-10-03</td>\n",
       "      <td>68706.889917</td>\n",
       "      <td>65437.792723</td>\n",
       "      <td>71340.222299</td>\n",
       "      <td>68706.889917</td>\n",
       "      <td>68706.889917</td>\n",
       "      <td>-382.697393</td>\n",
       "      <td>-382.697393</td>\n",
       "      <td>-382.697393</td>\n",
       "      <td>-382.697393</td>\n",
       "      <td>-382.697393</td>\n",
       "      <td>-382.697393</td>\n",
       "      <td>0.0</td>\n",
       "      <td>0.0</td>\n",
       "      <td>0.0</td>\n",
       "      <td>68324.192524</td>\n",
       "    </tr>\n",
       "    <tr>\n",
       "      <th>3</th>\n",
       "      <td>2015-10-04</td>\n",
       "      <td>68698.784770</td>\n",
       "      <td>65976.760504</td>\n",
       "      <td>72097.796362</td>\n",
       "      <td>68698.784770</td>\n",
       "      <td>68698.784770</td>\n",
       "      <td>346.583014</td>\n",
       "      <td>346.583014</td>\n",
       "      <td>346.583014</td>\n",
       "      <td>346.583014</td>\n",
       "      <td>346.583014</td>\n",
       "      <td>346.583014</td>\n",
       "      <td>0.0</td>\n",
       "      <td>0.0</td>\n",
       "      <td>0.0</td>\n",
       "      <td>69045.367784</td>\n",
       "    </tr>\n",
       "    <tr>\n",
       "      <th>4</th>\n",
       "      <td>2015-10-05</td>\n",
       "      <td>68690.679623</td>\n",
       "      <td>66165.212739</td>\n",
       "      <td>72070.572661</td>\n",
       "      <td>68690.679623</td>\n",
       "      <td>68690.679623</td>\n",
       "      <td>430.141442</td>\n",
       "      <td>430.141442</td>\n",
       "      <td>430.141442</td>\n",
       "      <td>430.141442</td>\n",
       "      <td>430.141442</td>\n",
       "      <td>430.141442</td>\n",
       "      <td>0.0</td>\n",
       "      <td>0.0</td>\n",
       "      <td>0.0</td>\n",
       "      <td>69120.821065</td>\n",
       "    </tr>\n",
       "    <tr>\n",
       "      <th>...</th>\n",
       "      <td>...</td>\n",
       "      <td>...</td>\n",
       "      <td>...</td>\n",
       "      <td>...</td>\n",
       "      <td>...</td>\n",
       "      <td>...</td>\n",
       "      <td>...</td>\n",
       "      <td>...</td>\n",
       "      <td>...</td>\n",
       "      <td>...</td>\n",
       "      <td>...</td>\n",
       "      <td>...</td>\n",
       "      <td>...</td>\n",
       "      <td>...</td>\n",
       "      <td>...</td>\n",
       "      <td>...</td>\n",
       "    </tr>\n",
       "    <tr>\n",
       "      <th>71</th>\n",
       "      <td>2015-12-11</td>\n",
       "      <td>75713.431140</td>\n",
       "      <td>71255.135946</td>\n",
       "      <td>77313.619334</td>\n",
       "      <td>75287.982792</td>\n",
       "      <td>76171.616210</td>\n",
       "      <td>-1386.618392</td>\n",
       "      <td>-1386.618392</td>\n",
       "      <td>-1386.618392</td>\n",
       "      <td>-1386.618392</td>\n",
       "      <td>-1386.618392</td>\n",
       "      <td>-1386.618392</td>\n",
       "      <td>0.0</td>\n",
       "      <td>0.0</td>\n",
       "      <td>0.0</td>\n",
       "      <td>74326.812747</td>\n",
       "    </tr>\n",
       "    <tr>\n",
       "      <th>72</th>\n",
       "      <td>2015-12-12</td>\n",
       "      <td>75890.236859</td>\n",
       "      <td>72313.964843</td>\n",
       "      <td>78544.544628</td>\n",
       "      <td>75437.882987</td>\n",
       "      <td>76377.306482</td>\n",
       "      <td>-382.697393</td>\n",
       "      <td>-382.697393</td>\n",
       "      <td>-382.697393</td>\n",
       "      <td>-382.697393</td>\n",
       "      <td>-382.697393</td>\n",
       "      <td>-382.697393</td>\n",
       "      <td>0.0</td>\n",
       "      <td>0.0</td>\n",
       "      <td>0.0</td>\n",
       "      <td>75507.539466</td>\n",
       "    </tr>\n",
       "    <tr>\n",
       "      <th>73</th>\n",
       "      <td>2015-12-13</td>\n",
       "      <td>76067.042579</td>\n",
       "      <td>73368.845081</td>\n",
       "      <td>79451.463012</td>\n",
       "      <td>75594.295785</td>\n",
       "      <td>76593.915642</td>\n",
       "      <td>346.583014</td>\n",
       "      <td>346.583014</td>\n",
       "      <td>346.583014</td>\n",
       "      <td>346.583014</td>\n",
       "      <td>346.583014</td>\n",
       "      <td>346.583014</td>\n",
       "      <td>0.0</td>\n",
       "      <td>0.0</td>\n",
       "      <td>0.0</td>\n",
       "      <td>76413.625593</td>\n",
       "    </tr>\n",
       "    <tr>\n",
       "      <th>74</th>\n",
       "      <td>2015-12-14</td>\n",
       "      <td>76243.848299</td>\n",
       "      <td>73558.633383</td>\n",
       "      <td>79730.220076</td>\n",
       "      <td>75728.166265</td>\n",
       "      <td>76817.575217</td>\n",
       "      <td>430.141442</td>\n",
       "      <td>430.141442</td>\n",
       "      <td>430.141442</td>\n",
       "      <td>430.141442</td>\n",
       "      <td>430.141442</td>\n",
       "      <td>430.141442</td>\n",
       "      <td>0.0</td>\n",
       "      <td>0.0</td>\n",
       "      <td>0.0</td>\n",
       "      <td>76673.989741</td>\n",
       "    </tr>\n",
       "    <tr>\n",
       "      <th>75</th>\n",
       "      <td>2015-12-15</td>\n",
       "      <td>76420.654019</td>\n",
       "      <td>74342.198603</td>\n",
       "      <td>80587.498782</td>\n",
       "      <td>75854.017107</td>\n",
       "      <td>77029.170011</td>\n",
       "      <td>1137.798267</td>\n",
       "      <td>1137.798267</td>\n",
       "      <td>1137.798267</td>\n",
       "      <td>1137.798267</td>\n",
       "      <td>1137.798267</td>\n",
       "      <td>1137.798267</td>\n",
       "      <td>0.0</td>\n",
       "      <td>0.0</td>\n",
       "      <td>0.0</td>\n",
       "      <td>77558.452285</td>\n",
       "    </tr>\n",
       "  </tbody>\n",
       "</table>\n",
       "<p>76 rows × 16 columns</p>\n",
       "</div>"
      ],
      "text/plain": [
       "           ds         trend    yhat_lower    yhat_upper   trend_lower   trend_upper  additive_terms  additive_terms_lower  additive_terms_upper       weekly  weekly_lower  weekly_upper  multiplicative_terms  multiplicative_terms_lower  multiplicative_terms_upper          yhat\n",
       "0  2015-10-01  68723.100210  64906.535587  71131.760796  68723.100210  68723.100210     -789.278575           -789.278575           -789.278575  -789.278575   -789.278575   -789.278575                   0.0                         0.0                         0.0  67933.821634\n",
       "1  2015-10-02  68714.995063  64604.986195  70408.278039  68714.995063  68714.995063    -1386.618392          -1386.618392          -1386.618392 -1386.618392  -1386.618392  -1386.618392                   0.0                         0.0                         0.0  67328.376671\n",
       "2  2015-10-03  68706.889917  65437.792723  71340.222299  68706.889917  68706.889917     -382.697393           -382.697393           -382.697393  -382.697393   -382.697393   -382.697393                   0.0                         0.0                         0.0  68324.192524\n",
       "3  2015-10-04  68698.784770  65976.760504  72097.796362  68698.784770  68698.784770      346.583014            346.583014            346.583014   346.583014    346.583014    346.583014                   0.0                         0.0                         0.0  69045.367784\n",
       "4  2015-10-05  68690.679623  66165.212739  72070.572661  68690.679623  68690.679623      430.141442            430.141442            430.141442   430.141442    430.141442    430.141442                   0.0                         0.0                         0.0  69120.821065\n",
       "..        ...           ...           ...           ...           ...           ...             ...                   ...                   ...          ...           ...           ...                   ...                         ...                         ...           ...\n",
       "71 2015-12-11  75713.431140  71255.135946  77313.619334  75287.982792  76171.616210    -1386.618392          -1386.618392          -1386.618392 -1386.618392  -1386.618392  -1386.618392                   0.0                         0.0                         0.0  74326.812747\n",
       "72 2015-12-12  75890.236859  72313.964843  78544.544628  75437.882987  76377.306482     -382.697393           -382.697393           -382.697393  -382.697393   -382.697393   -382.697393                   0.0                         0.0                         0.0  75507.539466\n",
       "73 2015-12-13  76067.042579  73368.845081  79451.463012  75594.295785  76593.915642      346.583014            346.583014            346.583014   346.583014    346.583014    346.583014                   0.0                         0.0                         0.0  76413.625593\n",
       "74 2015-12-14  76243.848299  73558.633383  79730.220076  75728.166265  76817.575217      430.141442            430.141442            430.141442   430.141442    430.141442    430.141442                   0.0                         0.0                         0.0  76673.989741\n",
       "75 2015-12-15  76420.654019  74342.198603  80587.498782  75854.017107  77029.170011     1137.798267           1137.798267           1137.798267  1137.798267   1137.798267   1137.798267                   0.0                         0.0                         0.0  77558.452285\n",
       "\n",
       "[76 rows x 16 columns]"
      ]
     },
     "execution_count": 46,
     "metadata": {},
     "output_type": "execute_result"
    }
   ],
   "source": [
    "predictions"
   ]
  },
  {
   "cell_type": "code",
   "execution_count": 40,
   "metadata": {},
   "outputs": [
    {
     "data": {
      "image/png": "[encoded data removed]",
      "text/plain": [
       "<Figure size 648x432 with 2 Axes>"
      ]
     },
     "metadata": {},
     "output_type": "display_data"
    }
   ],
   "source": [
    "#and plot the series component\n",
    "ts.plot_components(predictions);"
   ]
  },
  {
   "cell_type": "markdown",
   "metadata": {},
   "source": [
    "We can see that there is some (very very small) weekly variation. Most importantly, the time serie overall is pretty flat in October and starts going up in Nov. Predictions for Dec 15 tend to be up given that the model assumes the time serie keeps following its most recent trend. Obviously, this would be much more useful with yearly data, so we would be able to capture yearly seasonality.\n",
    "\n",
    "Let’s now do it for all the ad groups and get the predictions."
   ]
  },
  {
   "cell_type": "code",
   "execution_count": 42,
   "metadata": {},
   "outputs": [],
   "source": [
    "#data set to store results\n",
    "predictions_all_groups = pd.DataFrame({'ad_group':data['ad'].unique(),\n",
    "                                           'date': pandas.to_datetime(\"2015-12-15\")})"
   ]
  },
  {
   "cell_type": "code",
   "execution_count": 43,
   "metadata": {},
   "outputs": [
    {
     "data": {
      "text/html": [
       "<div>\n",
       "<style scoped>\n",
       "    .dataframe tbody tr th:only-of-type {\n",
       "        vertical-align: middle;\n",
       "    }\n",
       "\n",
       "    .dataframe tbody tr th {\n",
       "        vertical-align: top;\n",
       "    }\n",
       "\n",
       "    .dataframe thead th {\n",
       "        text-align: right;\n",
       "    }\n",
       "</style>\n",
       "<table border=\"1\" class=\"dataframe\">\n",
       "  <thead>\n",
       "    <tr style=\"text-align: right;\">\n",
       "      <th></th>\n",
       "      <th>ad_group</th>\n",
       "      <th>date</th>\n",
       "    </tr>\n",
       "  </thead>\n",
       "  <tbody>\n",
       "    <tr>\n",
       "      <th>0</th>\n",
       "      <td>ad_group_1</td>\n",
       "      <td>2015-12-15</td>\n",
       "    </tr>\n",
       "    <tr>\n",
       "      <th>1</th>\n",
       "      <td>ad_group_2</td>\n",
       "      <td>2015-12-15</td>\n",
       "    </tr>\n",
       "    <tr>\n",
       "      <th>2</th>\n",
       "      <td>ad_group_3</td>\n",
       "      <td>2015-12-15</td>\n",
       "    </tr>\n",
       "    <tr>\n",
       "      <th>3</th>\n",
       "      <td>ad_group_4</td>\n",
       "      <td>2015-12-15</td>\n",
       "    </tr>\n",
       "    <tr>\n",
       "      <th>4</th>\n",
       "      <td>ad_group_5</td>\n",
       "      <td>2015-12-15</td>\n",
       "    </tr>\n",
       "  </tbody>\n",
       "</table>\n",
       "</div>"
      ],
      "text/plain": [
       "     ad_group       date\n",
       "0  ad_group_1 2015-12-15\n",
       "1  ad_group_2 2015-12-15\n",
       "2  ad_group_3 2015-12-15\n",
       "3  ad_group_4 2015-12-15\n",
       "4  ad_group_5 2015-12-15"
      ]
     },
     "execution_count": 43,
     "metadata": {},
     "output_type": "execute_result"
    }
   ],
   "source": [
    "predictions_all_groups.head()"
   ]
  },
  {
   "cell_type": "code",
   "execution_count": 45,
   "metadata": {},
   "outputs": [
    {
     "name": "stderr",
     "output_type": "stream",
     "text": [
      "INFO:fbprophet:Disabling yearly seasonality. Run prophet with yearly_seasonality=True to override this.\n",
      "INFO:fbprophet:Disabling daily seasonality. Run prophet with daily_seasonality=True to override this.\n",
      "INFO:fbprophet:Disabling yearly seasonality. Run prophet with yearly_seasonality=True to override this.\n",
      "INFO:fbprophet:Disabling daily seasonality. Run prophet with daily_seasonality=True to override this.\n",
      "INFO:fbprophet:Disabling yearly seasonality. Run prophet with yearly_seasonality=True to override this.\n",
      "INFO:fbprophet:Disabling daily seasonality. Run prophet with daily_seasonality=True to override this.\n",
      "INFO:fbprophet:Disabling yearly seasonality. Run prophet with yearly_seasonality=True to override this.\n",
      "INFO:fbprophet:Disabling daily seasonality. Run prophet with daily_seasonality=True to override this.\n",
      "INFO:fbprophet:Disabling yearly seasonality. Run prophet with yearly_seasonality=True to override this.\n",
      "INFO:fbprophet:Disabling daily seasonality. Run prophet with daily_seasonality=True to override this.\n",
      "INFO:fbprophet:Disabling yearly seasonality. Run prophet with yearly_seasonality=True to override this.\n",
      "INFO:fbprophet:Disabling daily seasonality. Run prophet with daily_seasonality=True to override this.\n",
      "INFO:fbprophet:Disabling yearly seasonality. Run prophet with yearly_seasonality=True to override this.\n",
      "INFO:fbprophet:Disabling daily seasonality. Run prophet with daily_seasonality=True to override this.\n",
      "INFO:fbprophet:Disabling yearly seasonality. Run prophet with yearly_seasonality=True to override this.\n",
      "INFO:fbprophet:Disabling daily seasonality. Run prophet with daily_seasonality=True to override this.\n",
      "INFO:fbprophet:Disabling yearly seasonality. Run prophet with yearly_seasonality=True to override this.\n",
      "INFO:fbprophet:Disabling daily seasonality. Run prophet with daily_seasonality=True to override this.\n",
      "INFO:fbprophet:Disabling yearly seasonality. Run prophet with yearly_seasonality=True to override this.\n",
      "INFO:fbprophet:Disabling daily seasonality. Run prophet with daily_seasonality=True to override this.\n",
      "INFO:fbprophet:Disabling yearly seasonality. Run prophet with yearly_seasonality=True to override this.\n",
      "INFO:fbprophet:Disabling daily seasonality. Run prophet with daily_seasonality=True to override this.\n",
      "INFO:fbprophet:Disabling yearly seasonality. Run prophet with yearly_seasonality=True to override this.\n",
      "INFO:fbprophet:Disabling daily seasonality. Run prophet with daily_seasonality=True to override this.\n",
      "INFO:fbprophet:Disabling yearly seasonality. Run prophet with yearly_seasonality=True to override this.\n",
      "INFO:fbprophet:Disabling daily seasonality. Run prophet with daily_seasonality=True to override this.\n",
      "INFO:fbprophet:Disabling yearly seasonality. Run prophet with yearly_seasonality=True to override this.\n",
      "INFO:fbprophet:Disabling daily seasonality. Run prophet with daily_seasonality=True to override this.\n",
      "INFO:fbprophet:Disabling yearly seasonality. Run prophet with yearly_seasonality=True to override this.\n",
      "INFO:fbprophet:Disabling daily seasonality. Run prophet with daily_seasonality=True to override this.\n",
      "INFO:fbprophet:Disabling yearly seasonality. Run prophet with yearly_seasonality=True to override this.\n",
      "INFO:fbprophet:Disabling daily seasonality. Run prophet with daily_seasonality=True to override this.\n",
      "INFO:fbprophet:Disabling yearly seasonality. Run prophet with yearly_seasonality=True to override this.\n",
      "INFO:fbprophet:Disabling daily seasonality. Run prophet with daily_seasonality=True to override this.\n",
      "INFO:fbprophet:Disabling yearly seasonality. Run prophet with yearly_seasonality=True to override this.\n",
      "INFO:fbprophet:Disabling daily seasonality. Run prophet with daily_seasonality=True to override this.\n",
      "INFO:fbprophet:Disabling yearly seasonality. Run prophet with yearly_seasonality=True to override this.\n",
      "INFO:fbprophet:Disabling daily seasonality. Run prophet with daily_seasonality=True to override this.\n",
      "INFO:fbprophet:Disabling yearly seasonality. Run prophet with yearly_seasonality=True to override this.\n",
      "INFO:fbprophet:Disabling daily seasonality. Run prophet with daily_seasonality=True to override this.\n",
      "INFO:fbprophet:Disabling yearly seasonality. Run prophet with yearly_seasonality=True to override this.\n",
      "INFO:fbprophet:Disabling daily seasonality. Run prophet with daily_seasonality=True to override this.\n",
      "INFO:fbprophet:Disabling yearly seasonality. Run prophet with yearly_seasonality=True to override this.\n",
      "INFO:fbprophet:Disabling daily seasonality. Run prophet with daily_seasonality=True to override this.\n",
      "INFO:fbprophet:Disabling yearly seasonality. Run prophet with yearly_seasonality=True to override this.\n",
      "INFO:fbprophet:Disabling daily seasonality. Run prophet with daily_seasonality=True to override this.\n",
      "INFO:fbprophet:Disabling yearly seasonality. Run prophet with yearly_seasonality=True to override this.\n",
      "INFO:fbprophet:Disabling daily seasonality. Run prophet with daily_seasonality=True to override this.\n",
      "INFO:fbprophet:Disabling yearly seasonality. Run prophet with yearly_seasonality=True to override this.\n",
      "INFO:fbprophet:Disabling daily seasonality. Run prophet with daily_seasonality=True to override this.\n",
      "INFO:fbprophet:Disabling yearly seasonality. Run prophet with yearly_seasonality=True to override this.\n",
      "INFO:fbprophet:Disabling daily seasonality. Run prophet with daily_seasonality=True to override this.\n",
      "INFO:fbprophet:Disabling yearly seasonality. Run prophet with yearly_seasonality=True to override this.\n",
      "INFO:fbprophet:Disabling daily seasonality. Run prophet with daily_seasonality=True to override this.\n",
      "INFO:fbprophet:Disabling yearly seasonality. Run prophet with yearly_seasonality=True to override this.\n",
      "INFO:fbprophet:Disabling daily seasonality. Run prophet with daily_seasonality=True to override this.\n",
      "INFO:fbprophet:Disabling yearly seasonality. Run prophet with yearly_seasonality=True to override this.\n",
      "INFO:fbprophet:Disabling daily seasonality. Run prophet with daily_seasonality=True to override this.\n",
      "INFO:fbprophet:Disabling yearly seasonality. Run prophet with yearly_seasonality=True to override this.\n",
      "INFO:fbprophet:Disabling daily seasonality. Run prophet with daily_seasonality=True to override this.\n",
      "INFO:fbprophet:Disabling yearly seasonality. Run prophet with yearly_seasonality=True to override this.\n",
      "INFO:fbprophet:Disabling daily seasonality. Run prophet with daily_seasonality=True to override this.\n",
      "INFO:fbprophet:Disabling yearly seasonality. Run prophet with yearly_seasonality=True to override this.\n",
      "INFO:fbprophet:Disabling daily seasonality. Run prophet with daily_seasonality=True to override this.\n",
      "INFO:fbprophet:Disabling yearly seasonality. Run prophet with yearly_seasonality=True to override this.\n",
      "INFO:fbprophet:Disabling daily seasonality. Run prophet with daily_seasonality=True to override this.\n",
      "INFO:fbprophet:Disabling yearly seasonality. Run prophet with yearly_seasonality=True to override this.\n",
      "INFO:fbprophet:Disabling daily seasonality. Run prophet with daily_seasonality=True to override this.\n",
      "INFO:fbprophet:Disabling yearly seasonality. Run prophet with yearly_seasonality=True to override this.\n",
      "INFO:fbprophet:Disabling daily seasonality. Run prophet with daily_seasonality=True to override this.\n",
      "INFO:fbprophet:Disabling yearly seasonality. Run prophet with yearly_seasonality=True to override this.\n",
      "INFO:fbprophet:Disabling daily seasonality. Run prophet with daily_seasonality=True to override this.\n",
      "INFO:fbprophet:Disabling yearly seasonality. Run prophet with yearly_seasonality=True to override this.\n",
      "INFO:fbprophet:Disabling daily seasonality. Run prophet with daily_seasonality=True to override this.\n",
      "INFO:fbprophet:Disabling yearly seasonality. Run prophet with yearly_seasonality=True to override this.\n",
      "INFO:fbprophet:Disabling daily seasonality. Run prophet with daily_seasonality=True to override this.\n",
      "INFO:fbprophet:Disabling yearly seasonality. Run prophet with yearly_seasonality=True to override this.\n",
      "INFO:fbprophet:Disabling daily seasonality. Run prophet with daily_seasonality=True to override this.\n",
      "INFO:fbprophet:Disabling yearly seasonality. Run prophet with yearly_seasonality=True to override this.\n",
      "INFO:fbprophet:Disabling daily seasonality. Run prophet with daily_seasonality=True to override this.\n"
     ]
    }
   ],
   "source": [
    "#We will do it via a for loop through all the ad groups\n",
    "prediction_dec_15 = [] \n",
    "for level in predictions_all_groups.ad_group:\n",
    "     \n",
    "     #subset data, only keep 1 ad group and columns needed\n",
    "     tmp = data.loc[data['ad']==level][[\"date\", \"shown\"]]\n",
    "#change column names and index\n",
    "     tmp['ds'] = tmp['date']\n",
    "     tmp.rename({'shown': 'y'}, axis=1, inplace=True)\n",
    "     tmp.set_index('date', inplace=True)\n",
    "     \n",
    "     #build the model\n",
    "     ts_tmp = fbprophet.Prophet()\n",
    "     ts_tmp.fit(tmp)\n",
    "     \n",
    "     #make predictions until Dec 15. This is the number of days for which we need a prediction to get to Dec 15\n",
    "     days_predictions_tmp = (pd.to_datetime(\"2015-12-15\")-tmp['ds'].max()).days\n",
    "     future_data_tmp = ts_tmp.make_future_dataframe(periods = days_predictions_tmp)\n",
    "     predictions_tmp = ts_tmp.predict(future_data_tmp)\n",
    "     \n",
    "     #store results for the last day, i.e. Dec 15 prediction\n",
    "     prediction_dec_15.append(round(predictions_tmp['yhat'].iat[-1]))"
   ]
  },
  {
   "cell_type": "code",
   "execution_count": 47,
   "metadata": {},
   "outputs": [
    {
     "name": "stdout",
     "output_type": "stream",
     "text": [
      "       ad_group       date  predictions\n",
      "0    ad_group_1 2015-12-15      77558.0\n",
      "1    ad_group_2 2015-12-15      50305.0\n",
      "2    ad_group_3 2015-12-15     152888.0\n",
      "3    ad_group_4 2015-12-15      94679.0\n",
      "4    ad_group_5 2015-12-15      54750.0\n",
      "5    ad_group_6 2015-12-15      40587.0\n",
      "6    ad_group_7 2015-12-15      56988.0\n",
      "7    ad_group_8 2015-12-15      47171.0\n",
      "8    ad_group_9 2015-12-15     124642.0\n",
      "9   ad_group_10 2015-12-15     127043.0\n",
      "10  ad_group_11 2015-12-15      19964.0\n",
      "11  ad_group_12 2015-12-15      28000.0\n",
      "12  ad_group_13 2015-12-15     162073.0\n",
      "13  ad_group_14 2015-12-15       8715.0\n",
      "14  ad_group_15 2015-12-15      15773.0\n",
      "15  ad_group_16 2015-12-15      30494.0\n",
      "16  ad_group_17 2015-12-15     134101.0\n",
      "17  ad_group_18 2015-12-15      89749.0\n",
      "18  ad_group_19 2015-12-15      19889.0\n",
      "19  ad_group_20 2015-12-15     120417.0\n",
      "20  ad_group_21 2015-12-15      28320.0\n",
      "21  ad_group_22 2015-12-15      26866.0\n",
      "22  ad_group_23 2015-12-15      48616.0\n",
      "23  ad_group_24 2015-12-15      37394.0\n",
      "24  ad_group_25 2015-12-15     174387.0\n",
      "25  ad_group_26 2015-12-15      72261.0\n",
      "26  ad_group_27 2015-12-15      65385.0\n",
      "27  ad_group_28 2015-12-15      20984.0\n",
      "28  ad_group_29 2015-12-15      21327.0\n",
      "29  ad_group_30 2015-12-15     110710.0\n",
      "30  ad_group_31 2015-12-15     123616.0\n",
      "31  ad_group_32 2015-12-15      39847.0\n",
      "32  ad_group_33 2015-12-15      16240.0\n",
      "33  ad_group_34 2015-12-15      38683.0\n",
      "34  ad_group_35 2015-12-15      60008.0\n",
      "35  ad_group_36 2015-12-15      71430.0\n",
      "36  ad_group_37 2015-12-15      71485.0\n",
      "37  ad_group_38 2015-12-15     177108.0\n",
      "38  ad_group_39 2015-12-15      26122.0\n",
      "39  ad_group_40 2015-12-15      80638.0\n"
     ]
    }
   ],
   "source": [
    "predictions_all_groups['predictions'] = prediction_dec_15\n",
    "print(predictions_all_groups)"
   ]
  },
  {
   "cell_type": "markdown",
   "metadata": {},
   "source": [
    "Q: Cluster ads into 3 groups: the ones whose avg_cost_per_click is going up, the ones whose avg_cost_per_click is flat and the ones whose avg_cost_per_click is going down\n",
    "\n",
    "The simplest way to answer this is to build a linear regression for each ad group. Cost_per_click will be the y value and the x axis is days as a number (1,2,3,etc). We will then check the coefficient of the regression: Positive and significant coefficient -> going up Negative and significant coefficient -> going down Non-significant coefficient -> flat"
   ]
  },
  {
   "cell_type": "code",
   "execution_count": 48,
   "metadata": {},
   "outputs": [
    {
     "data": {
      "text/plain": [
       "Text(0.5, 1.0, 'Avg Cost per Click')"
      ]
     },
     "execution_count": 48,
     "metadata": {},
     "output_type": "execute_result"
    },
    {
     "data": {
      "image/png": "[encoded data removed]",
      "text/plain": [
       "<Figure size 432x288 with 1 Axes>"
      ]
     },
     "metadata": {
      "needs_background": "light"
     },
     "output_type": "display_data"
    }
   ],
   "source": [
    "#firstly let's plot them to get a sense of whether cost per click is going up or not in general\n",
    "g=sns.lineplot(x=\"date\", y=\"avg_cost_per_click\",hue=\"ad\", data=data, legend=\"\")\n",
    "g.xaxis.set_major_locator(mdates.MonthLocator())\n",
    "g.xaxis.set_major_formatter(mdates.DateFormatter('%b %d'))\n",
    "g.set_title(\"Avg Cost per Click\") "
   ]
  },
  {
   "cell_type": "markdown",
   "metadata": {},
   "source": [
    "It is pretty messy, but overall things seem pretty flat."
   ]
  },
  {
   "cell_type": "code",
   "execution_count": 58,
   "metadata": {},
   "outputs": [],
   "source": [
    "data_ad1_cost= data.query('ad==\"ad_group_1\"')[[\"date\", \"avg_cost_per_click\"]]"
   ]
  },
  {
   "cell_type": "code",
   "execution_count": 59,
   "metadata": {},
   "outputs": [],
   "source": [
    "data_ad1_cost['day'] = (data_ad1_cost['date'] - data_ad1_cost['date'].min()).dt.days"
   ]
  },
  {
   "cell_type": "code",
   "execution_count": 60,
   "metadata": {},
   "outputs": [
    {
     "data": {
      "text/plain": [
       "Text(0, 0.5, 'cost per click')"
      ]
     },
     "execution_count": 60,
     "metadata": {},
     "output_type": "execute_result"
    },
    {
     "data": {
      "image/png": "[encoded data removed]",
      "text/plain": [
       "<Figure size 432x288 with 1 Axes>"
      ]
     },
     "metadata": {
      "needs_background": "light"
     },
     "output_type": "display_data"
    }
   ],
   "source": [
    "plt.scatter(data_ad1_cost['day'],data_ad1_cost['avg_cost_per_click'] )\n",
    "plt.xlabel('days')\n",
    "plt.ylabel('cost per click')"
   ]
  },
  {
   "cell_type": "code",
   "execution_count": 63,
   "metadata": {},
   "outputs": [
    {
     "data": {
      "text/html": [
       "<div>\n",
       "<style scoped>\n",
       "    .dataframe tbody tr th:only-of-type {\n",
       "        vertical-align: middle;\n",
       "    }\n",
       "\n",
       "    .dataframe tbody tr th {\n",
       "        vertical-align: top;\n",
       "    }\n",
       "\n",
       "    .dataframe thead th {\n",
       "        text-align: right;\n",
       "    }\n",
       "</style>\n",
       "<table border=\"1\" class=\"dataframe\">\n",
       "  <thead>\n",
       "    <tr style=\"text-align: right;\">\n",
       "      <th></th>\n",
       "      <th>date</th>\n",
       "      <th>avg_cost_per_click</th>\n",
       "      <th>day</th>\n",
       "    </tr>\n",
       "  </thead>\n",
       "  <tbody>\n",
       "    <tr>\n",
       "      <th>0</th>\n",
       "      <td>2015-10-01</td>\n",
       "      <td>0.90</td>\n",
       "      <td>0</td>\n",
       "    </tr>\n",
       "    <tr>\n",
       "      <th>1</th>\n",
       "      <td>2015-10-02</td>\n",
       "      <td>0.94</td>\n",
       "      <td>1</td>\n",
       "    </tr>\n",
       "    <tr>\n",
       "      <th>2</th>\n",
       "      <td>2015-10-03</td>\n",
       "      <td>0.86</td>\n",
       "      <td>2</td>\n",
       "    </tr>\n",
       "    <tr>\n",
       "      <th>3</th>\n",
       "      <td>2015-10-04</td>\n",
       "      <td>1.01</td>\n",
       "      <td>3</td>\n",
       "    </tr>\n",
       "    <tr>\n",
       "      <th>4</th>\n",
       "      <td>2015-10-05</td>\n",
       "      <td>1.00</td>\n",
       "      <td>4</td>\n",
       "    </tr>\n",
       "  </tbody>\n",
       "</table>\n",
       "</div>"
      ],
      "text/plain": [
       "        date  avg_cost_per_click  day\n",
       "0 2015-10-01                0.90    0\n",
       "1 2015-10-02                0.94    1\n",
       "2 2015-10-03                0.86    2\n",
       "3 2015-10-04                1.01    3\n",
       "4 2015-10-05                1.00    4"
      ]
     },
     "execution_count": 63,
     "metadata": {},
     "output_type": "execute_result"
    }
   ],
   "source": [
    "data_ad1_cost.head()"
   ]
  },
  {
   "cell_type": "code",
   "execution_count": 64,
   "metadata": {},
   "outputs": [
    {
     "data": {
      "text/plain": [
       "Text(0.5, 1.0, 'Avg Cost per Click')"
      ]
     },
     "execution_count": 64,
     "metadata": {},
     "output_type": "execute_result"
    },
    {
     "data": {
      "image/png": "[encoded data removed]",
      "text/plain": [
       "<Figure size 432x288 with 1 Axes>"
      ]
     },
     "metadata": {
      "needs_background": "light"
     },
     "output_type": "display_data"
    }
   ],
   "source": [
    "g=sns.lineplot(x=\"date\", y=\"avg_cost_per_click\", data=data_ad1_cost, legend=\"\")\n",
    "g.xaxis.set_major_locator(mdates.MonthLocator())\n",
    "g.xaxis.set_major_formatter(mdates.DateFormatter('%b %d'))\n",
    "g.set_title(\"Avg Cost per Click\")"
   ]
  },
  {
   "cell_type": "markdown",
   "metadata": {},
   "source": [
    "from the above  plots, there is no up/down trend, pretty flat"
   ]
  },
  {
   "cell_type": "code",
   "execution_count": 49,
   "metadata": {},
   "outputs": [
    {
     "name": "stdout",
     "output_type": "stream",
     "text": [
      "       ad_group  coefficients   p_value cluster\n",
      "0    ad_group_1      0.000926  0.145429    flat\n",
      "1    ad_group_2     -0.000006  0.991095    flat\n",
      "2    ad_group_3      0.002445  0.255564    flat\n",
      "3    ad_group_4     -0.000577  0.804445    flat\n",
      "4    ad_group_5     -0.001018  0.440261    flat\n",
      "5    ad_group_6     -0.001734  0.077129    flat\n",
      "6    ad_group_7     -0.002569  0.120068    flat\n",
      "7    ad_group_8     -0.002689  0.026231    flat\n",
      "8    ad_group_9      0.000044  0.434626    flat\n",
      "9   ad_group_10     -0.000161  0.861238    flat\n",
      "10  ad_group_11      0.000490  0.655742    flat\n",
      "11  ad_group_12      0.000861  0.494787    flat\n",
      "12  ad_group_13      0.000198  0.874992    flat\n",
      "13  ad_group_14     -0.000776  0.168030    flat\n",
      "14  ad_group_15      0.000406  0.533287    flat\n",
      "15  ad_group_16     -0.000595  0.280798    flat\n",
      "16  ad_group_17     -0.000027  0.894071    flat\n",
      "17  ad_group_18      0.000625  0.691426    flat\n",
      "18  ad_group_19     -0.002980  0.139845    flat\n",
      "19  ad_group_20      0.000685  0.467957    flat\n",
      "20  ad_group_21     -0.001027  0.234991    flat\n",
      "21  ad_group_22     -0.000244  0.695846    flat\n",
      "22  ad_group_23     -0.000539  0.641059    flat\n",
      "23  ad_group_24     -0.006371  0.030700    flat\n",
      "24  ad_group_25     -0.000100  0.870318    flat\n",
      "25  ad_group_26      0.000724  0.699794    flat\n",
      "26  ad_group_27     -0.000295  0.156161    flat\n",
      "27  ad_group_28     -0.001832  0.188441    flat\n",
      "28  ad_group_29     -0.001375  0.314217    flat\n",
      "29  ad_group_30     -0.000114  0.878117    flat\n",
      "30  ad_group_31      0.000080  0.449891    flat\n",
      "31  ad_group_32      0.004258  0.033788    flat\n",
      "32  ad_group_33     -0.000967  0.319079    flat\n",
      "33  ad_group_34      0.000128  0.932790    flat\n",
      "34  ad_group_35     -0.000412  0.163060    flat\n",
      "35  ad_group_36     -0.001072  0.056771    flat\n",
      "36  ad_group_37      0.002610  0.076241    flat\n",
      "37  ad_group_38     -0.000809  0.432336    flat\n",
      "38  ad_group_39      0.001141  0.327894    flat\n",
      "39  ad_group_40      0.001925  0.006205    flat\n"
     ]
    }
   ],
   "source": [
    "import statsmodels.api as sm\n",
    "#build all linear regressions via a for loop\n",
    " \n",
    "#empty vectors\n",
    "coefficient = []\n",
    "p_value = []\n",
    " \n",
    "#for loop over all ad groups\n",
    "for level in data['ad'].unique():\n",
    "  \n",
    "  #subset dataset and keep variables we care about\n",
    "  data_reg = data.loc[data['ad']==level][[\"date\", \"avg_cost_per_click\"]]\n",
    "  #replace dates with numbers. 0 is the minimum date, 1 is minimum date + 1 day and so on\n",
    "  data_reg['date'] = (data_reg['date'] - data_reg['date'].min()).dt.days\n",
    "  #add intercept\n",
    "  data_reg['intercept'] = 1\n",
    "  \n",
    "  #build the regression\n",
    "  lr = sm.OLS(data_reg['avg_cost_per_click'],data_reg.drop('avg_cost_per_click', axis=1)).fit()\n",
    "  #save coefficient and p-value\n",
    "  coefficient.append(lr.params[0])\n",
    "  p_value.append(lr.pvalues[0])\n",
    " \n",
    " \n",
    "#put all together in a datframe\n",
    "lr_output = pd.DataFrame({\n",
    "                  'ad_group': data['ad'].unique(),\n",
    "                  'coefficients': coefficient,\n",
    "                  'p_value': p_value})\n",
    " \n",
    "#classify based on the rule described above. we use Bonferroni rule for significance\n",
    "lr_output['cluster'] = np.where((lr_output['coefficients']>0) & (lr_output['p_value']<0.05/40), 'going_up',\n",
    "                                np.where((lr_output['coefficients']<0) & (lr_output['p_value']<0.05/40), 'going_down',\n",
    "                                         'flat'))\n",
    "  \n",
    "print(lr_output)"
   ]
  },
  {
   "cell_type": "code",
   "execution_count": 65,
   "metadata": {},
   "outputs": [
    {
     "name": "stdout",
     "output_type": "stream",
     "text": [
      "flat    40\n",
      "Name: cluster, dtype: int64\n"
     ]
    }
   ],
   "source": [
    "print(lr_output['cluster'].value_counts())"
   ]
  },
  {
   "cell_type": "markdown",
   "metadata": {},
   "source": [
    "Looks like everything is flat. W/o using the Bonferroni correction (i.e. had we chosen a less aggressive p-value threshold), we would have likely found some significant ads. Also, via a linear regression, we are looking at the overall trend. That is, old data points weigh just as much as the most recent ones. Had we focused only on the most recent data, we obviously might have found different results."
   ]
  },
  {
   "cell_type": "code",
   "execution_count": null,
   "metadata": {},
   "outputs": [],
   "source": []
  }
 ],
 "metadata": {
  "kernelspec": {
   "display_name": "Python 3",
   "language": "python",
   "name": "python3"
  },
  "language_info": {
   "codemirror_mode": {
    "name": "ipython",
    "version": 3
   },
   "file_extension": ".py",
   "mimetype": "text/x-python",
   "name": "python",
   "nbconvert_exporter": "python",
   "pygments_lexer": "ipython3",
   "version": "3.7.3"
  }
 },
 "nbformat": 4,
 "nbformat_minor": 2
}
